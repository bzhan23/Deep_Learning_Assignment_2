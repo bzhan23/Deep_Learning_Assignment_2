{
  "nbformat": 4,
  "nbformat_minor": 0,
  "metadata": {
    "colab": {
      "provenance": [],
      "collapsed_sections": []
    },
    "kernelspec": {
      "name": "python3",
      "display_name": "Python 3"
    },
    "language_info": {
      "name": "python"
    },
    "accelerator": "GPU"
  },
  "cells": [
    {
      "cell_type": "code",
      "execution_count": 19,
      "metadata": {
        "colab": {
          "base_uri": "https://localhost:8080/"
        },
        "id": "5ABBAkDLUtp8",
        "outputId": "03246089-40af-4a28-d97f-6676d483a600"
      },
      "outputs": [
        {
          "output_type": "stream",
          "name": "stdout",
          "text": [
            "Files already downloaded and verified\n",
            "Files already downloaded and verified\n",
            "MyModel(\n",
            "  (conv1): Conv2d(3, 6, kernel_size=(5, 5), stride=(1, 1))\n",
            "  (pool): MaxPool2d(kernel_size=2, stride=2, padding=0, dilation=1, ceil_mode=False)\n",
            "  (conv2): Conv2d(6, 16, kernel_size=(5, 5), stride=(1, 1))\n",
            "  (fc1): Linear(in_features=400, out_features=120, bias=True)\n",
            "  (fc2): Linear(in_features=120, out_features=84, bias=True)\n",
            "  (fc3): Linear(in_features=84, out_features=10, bias=True)\n",
            ")\n"
          ]
        }
      ],
      "source": [
        "import torch\n",
        "import cv2\n",
        "import numpy as np\n",
        "from torchvision import datasets, transforms\n",
        "import torchvision\n",
        "\n",
        "# 1. Using torchvision to load data and preprocess\n",
        "transform = transforms.Compose([transforms.ToTensor(),  # transform image to tensor\n",
        "                                transforms.Normalize((0.5,0.5,0.5), (0.5,0.5,0.5)),  # normalize\n",
        "                              ])\n",
        "# load training dataset and testing dataset\n",
        "trainset = torchvision.datasets.CIFAR10(root='./data', train=True, download=True, transform=transform)\n",
        "trainloader = torch.utils.data.DataLoader(trainset, batch_size=4, shuffle=True, num_workers=2)\n",
        "testset = torchvision.datasets.CIFAR10(root='./data', train=False, download=True, transform=transform)\n",
        "testloader = torch.utils.data.DataLoader(testset, batch_size=4, shuffle=False, num_workers=2)\n",
        "\n",
        "\n",
        "# 2. define CNN\n",
        "import torch.nn as nn\n",
        "import torch.nn.functional as F\n",
        "\n",
        "class MyModel(nn.Module):  #  inheriate nn.Module\n",
        "    # define net structure\n",
        "    def __init__(self):\n",
        "        super(MyModel, self).__init__()\n",
        "        self.conv1 = nn.Conv2d(3,6,5)\n",
        "        self.pool = nn.MaxPool2d(2,2)\n",
        "        self.conv2 = nn.Conv2d(6,16,5)\n",
        "        self.fc1 = nn.Linear(16*5*5, 120)\n",
        "        self.fc2 = nn.Linear(120, 84)\n",
        "        self.fc3 = nn.Linear(84, 10)\n",
        "    # define forward propagation\n",
        "    def forward(self, x):\n",
        "        x = self.pool(F.relu(self.conv1(x)))\n",
        "        x = self.pool(F.relu(self.conv2(x)))\n",
        "        x = x.view(-1, 16*5*5)\n",
        "        x = F.relu(self.fc1(x))\n",
        "        x = F.relu(self.fc2(x))\n",
        "        x = self.fc3(x)\n",
        "\n",
        "        return x\n",
        "\n",
        "Net = MyModel()\n",
        "print(Net)"
      ]
    },
    {
      "cell_type": "code",
      "source": [
        "# 3. define loss function and optimizer\n",
        "import torch.optim as optim\n",
        "import matplotlib.pyplot as plt\n",
        "\n",
        "criterion = nn.CrossEntropyLoss()  # use cross entropy for classification\n",
        "optimizer = optim.SGD(Net.parameters(), lr=0.001, momentum=0.9)  # use SGD as optimizer\n",
        "\n",
        "\n",
        "# 4. train the CNN\n",
        "# run with GPU\n",
        "device = torch.device('cuda:0' if torch.cuda.is_available else 'cpu')\n",
        "Net.to(device)\n",
        "epochs = 10  # loop over the dataset epochs times, batch_size = 4, train as group of four images\n",
        "total_loss = []\n",
        "for epoch in range(epochs):\n",
        "    running_loss = 0.0\n",
        "    for i, data in enumerate(trainloader, 0):\n",
        "        # get inputs, data is a list of [inputs, labels]\n",
        "        inputs, labels = data\n",
        "        inputs, labels = inputs.to(device), labels.to(device)  # load the data to GPU\n",
        "        # zero the parameter gradients\n",
        "        optimizer.zero_grad()\n",
        "        # forward + backward + optimize\n",
        "        outputs = Net(inputs)  # forward propagation to get outputs\n",
        "        loss = criterion(outputs, labels)  # get loss\n",
        "        loss.backward()  # backward propagation\n",
        "        optimizer.step()  # update parameters\n",
        "\n",
        "        # print the training process\n",
        "        running_loss += loss.item()\n",
        "        if (i+1) % 2000 == 0:  # print loss every 1000 batch(4000 images)\n",
        "            #print('epoch {}：{:5d} times：current loss is：{:.3f}'.format(epoch+1, i+1, running_loss/2000))\n",
        "            total_loss.append(running_loss/2000)\n",
        "            running_loss = 0.0\n",
        "\n",
        "plt.xlabel('trained_batches')\n",
        "plt.ylabel('loss')\n",
        "plt.plot(total_loss)\n",
        "plt.legend(['train loss'])\n",
        "plt.show()"
      ],
      "metadata": {
        "colab": {
          "base_uri": "https://localhost:8080/",
          "height": 281
        },
        "id": "5x5b9AXiXSer",
        "outputId": "942251da-944e-4c13-ebc9-4113fa5c786c"
      },
      "execution_count": 20,
      "outputs": [
        {
          "output_type": "display_data",
          "data": {
            "text/plain": [
              "<Figure size 432x288 with 1 Axes>"
            ],
            "image/png": "[encoded data removed]"
          },
          "metadata": {
            "needs_background": "light"
          }
        }
      ]
    },
    {
      "cell_type": "code",
      "source": [
        "# 5. testing the accuracy\n",
        "\n",
        "correct = 0\n",
        "total = 0\n",
        "\n",
        "with torch.no_grad():  # not follow the gradient\n",
        "    for data in testloader:\n",
        "        images, labels = data\n",
        "        images, labels = images.to(device), labels.to(device) # load the data to GPU\n",
        "        outputs = Net(images)\n",
        "        _, predicted = torch.max(outputs.data, 1)\n",
        "        total += labels.size(0)\n",
        "        correct += (predicted == labels).sum().item()\n",
        "        \n",
        "print('Accuracy on testing dataset is：{:.3f}%'.format(correct*100/total))\n"
      ],
      "metadata": {
        "colab": {
          "base_uri": "https://localhost:8080/"
        },
        "id": "IFWXRM62Y-ou",
        "outputId": "57359e23-8a1e-439d-bd49-a000c8a396d2"
      },
      "execution_count": 21,
      "outputs": [
        {
          "output_type": "stream",
          "name": "stdout",
          "text": [
            "Accuracy on testing dataset is：60.400%\n"
          ]
        }
      ]
    }
  ]
}